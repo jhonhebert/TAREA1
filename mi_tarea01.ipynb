{
 "cells": [
  {
   "cell_type": "code",
   "execution_count": 1,
   "id": "8a5488ee-8749-4b88-bc50-854f8d1ae4f4",
   "metadata": {},
   "outputs": [
    {
     "name": "stdout",
     "output_type": "stream",
     "text": [
      "18\n"
     ]
    }
   ],
   "source": [
    "#Calcular el tamaño de la cadena \"Esta es una cadena\" sin usar la función len\n",
    "cadena = \"Esta es una cadena\"\n",
    "size=0\n",
    "lista = list(cadena)\n",
    "for value in cadena:\n",
    "  # incrementar la variable en cada bucle\n",
    "  size = size + 1\n",
    "print(size)"
   ]
  },
  {
   "cell_type": "code",
   "execution_count": 2,
   "id": "5f71a8c9-28c7-4362-84b2-98a26638cc84",
   "metadata": {},
   "outputs": [
    {
     "name": "stdout",
     "output_type": "stream",
     "text": [
      "El numero de caracteres de 'trabajando.pe' es:  13\n"
     ]
    }
   ],
   "source": [
    "#Contar el número de caracteres en la cadena trabajando.pe.\n",
    "print(\"El numero de caracteres de 'trabajando.pe' es: \",len(\"trabajando.pe\"))"
   ]
  },
  {
   "cell_type": "code",
   "execution_count": 3,
   "id": "0531d73d-a676-4594-b527-0b74836184d9",
   "metadata": {},
   "outputs": [
    {
     "name": "stdout",
     "output_type": "stream",
     "text": [
      "['a', 'b', 'c']\n"
     ]
    }
   ],
   "source": [
    "#Eliminar duplicados de la lista ['a', 'b', 'c', 'a', 'c', 'c'].\n",
    "lista = ['a', 'b', 'c', 'a', 'c', 'c']\n",
    "\n",
    "lista_unicos = []\n",
    "for i in lista:\n",
    "    if i not in lista_unicos:\n",
    "        lista_unicos.append(i)\n",
    "print(lista_unicos)"
   ]
  },
  {
   "cell_type": "code",
   "execution_count": 4,
   "id": "b011d512-4eb8-4e59-bcb7-33ab7e3b0b90",
   "metadata": {},
   "outputs": [],
   "source": [
    "#Escribir una función para determinar si un número es primo o no.\n",
    "def primo(num):\n",
    "    for n in range(2, num):\n",
    "        if num % n == 0:\n",
    "            print(\"No es primo,\", n, \"es divisor\")\n",
    "            return False\n",
    "    print(\"Es primo:\",num)\n",
    "    return True"
   ]
  }
 ],
 "metadata": {
  "kernelspec": {
   "display_name": "Python 3 (ipykernel)",
   "language": "python",
   "name": "python3"
  },
  "language_info": {
   "codemirror_mode": {
    "name": "ipython",
    "version": 3
   },
   "file_extension": ".py",
   "mimetype": "text/x-python",
   "name": "python",
   "nbconvert_exporter": "python",
   "pygments_lexer": "ipython3",
   "version": "3.12.2"
  }
 },
 "nbformat": 4,
 "nbformat_minor": 5
}
